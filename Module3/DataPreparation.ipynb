{
 "cells": [
  {
   "cell_type": "markdown",
   "metadata": {},
   "source": [
    "# Data Preparation for Machine Learning\n",
    "\n",
    "**Data preparation** is a vital step in the machine learning pipeline. Just as visualization is necessary to understand the relationships in data, proper preparation or **data munging** is required to ensure machine learning models work optimally. \n",
    "\n",
    "The process of data preparation is highly interactive and itteraterative. A typical process includes at least the following steps:\n",
    "1. **Visualization** of the dataset to understand the relationships and identify possible problems with the data.\n",
    "2. **Data cleaning and transformation** to address the problems identified. It many cases, step 1 is then repeated to verify that the cleaning and transformaiton had the desired effect. \n",
    "3. **Construction and evaluation of a machine learning models**. Visualization of the results will often lead to understanding of further data preparation that is required; going back to step 1. \n",
    "\n",
    "In this lab you will learn the following: \n",
    "- Recode character strings to eliminate characters that will not be processed correctly.\n",
    "- Find and treat missing values. \n",
    "- Set correct data type of each column. \n",
    "- Transform categorical features to create categories with more cases and coding more likely to be useful in predicting the label. \n",
    "- Apply transformations to numereic features and the label to improve the distribution properties. \n",
    "- Locate and treat duplicate cases. \n"
   ]
  },
  {
   "cell_type": "markdown",
   "metadata": {},
   "source": [
    "## An example\n",
    "\n",
    "As a first example you will prepare the automotive dataset. Careful preparation of this dataset, or any dataset, is required before atempting to train any machine learning model. This dataset has a number of problems which must be addressed. Further, some feature engineering will be applied. \n",
    "\n",
    "### Load the dataset\n",
    "\n",
    "As a first step you must load the dataset. \n",
    "\n",
    "Execute the code in the cell below to load the packages required  to run this notebook. "
   ]
  },
  {
   "cell_type": "code",
   "execution_count": 20,
   "metadata": {},
   "outputs": [],
   "source": [
    "import pandas as pd\n",
    "import matplotlib.pyplot as plt\n",
    "import seaborn as sns\n",
    "import numpy as np\n",
    "import numpy.random as nr\n",
    "import math\n",
    "\n",
    "%matplotlib inline"
   ]
  },
  {
   "cell_type": "markdown",
   "metadata": {},
   "source": [
    "Execute the code in the cell below to load the dataset and print the first few rows of the data frame."
   ]
  },
  {
   "cell_type": "code",
   "execution_count": 21,
   "metadata": {},
   "outputs": [
    {
     "data": {
      "text/html": [
       "<div>\n",
       "<style scoped>\n",
       "    .dataframe tbody tr th:only-of-type {\n",
       "        vertical-align: middle;\n",
       "    }\n",
       "\n",
       "    .dataframe tbody tr th {\n",
       "        vertical-align: top;\n",
       "    }\n",
       "\n",
       "    .dataframe thead th {\n",
       "        text-align: right;\n",
       "    }\n",
       "</style>\n",
       "<table border=\"1\" class=\"dataframe\">\n",
       "  <thead>\n",
       "    <tr style=\"text-align: right;\">\n",
       "      <th></th>\n",
       "      <th>symboling</th>\n",
       "      <th>normalized-losses</th>\n",
       "      <th>make</th>\n",
       "      <th>fuel-type</th>\n",
       "      <th>aspiration</th>\n",
       "      <th>num-of-doors</th>\n",
       "      <th>body-style</th>\n",
       "      <th>drive-wheels</th>\n",
       "      <th>engine-location</th>\n",
       "      <th>wheel-base</th>\n",
       "      <th>...</th>\n",
       "      <th>engine-size</th>\n",
       "      <th>fuel-system</th>\n",
       "      <th>bore</th>\n",
       "      <th>stroke</th>\n",
       "      <th>compression-ratio</th>\n",
       "      <th>horsepower</th>\n",
       "      <th>peak-rpm</th>\n",
       "      <th>city-mpg</th>\n",
       "      <th>highway-mpg</th>\n",
       "      <th>price</th>\n",
       "    </tr>\n",
       "  </thead>\n",
       "  <tbody>\n",
       "    <tr>\n",
       "      <th>0</th>\n",
       "      <td>3</td>\n",
       "      <td>?</td>\n",
       "      <td>alfa-romero</td>\n",
       "      <td>gas</td>\n",
       "      <td>std</td>\n",
       "      <td>two</td>\n",
       "      <td>convertible</td>\n",
       "      <td>rwd</td>\n",
       "      <td>front</td>\n",
       "      <td>88.6</td>\n",
       "      <td>...</td>\n",
       "      <td>130</td>\n",
       "      <td>mpfi</td>\n",
       "      <td>3.47</td>\n",
       "      <td>2.68</td>\n",
       "      <td>9.0</td>\n",
       "      <td>111</td>\n",
       "      <td>5000</td>\n",
       "      <td>21</td>\n",
       "      <td>27</td>\n",
       "      <td>13495</td>\n",
       "    </tr>\n",
       "    <tr>\n",
       "      <th>1</th>\n",
       "      <td>3</td>\n",
       "      <td>?</td>\n",
       "      <td>alfa-romero</td>\n",
       "      <td>gas</td>\n",
       "      <td>std</td>\n",
       "      <td>two</td>\n",
       "      <td>convertible</td>\n",
       "      <td>rwd</td>\n",
       "      <td>front</td>\n",
       "      <td>88.6</td>\n",
       "      <td>...</td>\n",
       "      <td>130</td>\n",
       "      <td>mpfi</td>\n",
       "      <td>3.47</td>\n",
       "      <td>2.68</td>\n",
       "      <td>9.0</td>\n",
       "      <td>111</td>\n",
       "      <td>5000</td>\n",
       "      <td>21</td>\n",
       "      <td>27</td>\n",
       "      <td>16500</td>\n",
       "    </tr>\n",
       "    <tr>\n",
       "      <th>2</th>\n",
       "      <td>1</td>\n",
       "      <td>?</td>\n",
       "      <td>alfa-romero</td>\n",
       "      <td>gas</td>\n",
       "      <td>std</td>\n",
       "      <td>two</td>\n",
       "      <td>hatchback</td>\n",
       "      <td>rwd</td>\n",
       "      <td>front</td>\n",
       "      <td>94.5</td>\n",
       "      <td>...</td>\n",
       "      <td>152</td>\n",
       "      <td>mpfi</td>\n",
       "      <td>2.68</td>\n",
       "      <td>3.47</td>\n",
       "      <td>9.0</td>\n",
       "      <td>154</td>\n",
       "      <td>5000</td>\n",
       "      <td>19</td>\n",
       "      <td>26</td>\n",
       "      <td>16500</td>\n",
       "    </tr>\n",
       "    <tr>\n",
       "      <th>3</th>\n",
       "      <td>2</td>\n",
       "      <td>164</td>\n",
       "      <td>audi</td>\n",
       "      <td>gas</td>\n",
       "      <td>std</td>\n",
       "      <td>four</td>\n",
       "      <td>sedan</td>\n",
       "      <td>fwd</td>\n",
       "      <td>front</td>\n",
       "      <td>99.8</td>\n",
       "      <td>...</td>\n",
       "      <td>109</td>\n",
       "      <td>mpfi</td>\n",
       "      <td>3.19</td>\n",
       "      <td>3.40</td>\n",
       "      <td>10.0</td>\n",
       "      <td>102</td>\n",
       "      <td>5500</td>\n",
       "      <td>24</td>\n",
       "      <td>30</td>\n",
       "      <td>13950</td>\n",
       "    </tr>\n",
       "    <tr>\n",
       "      <th>4</th>\n",
       "      <td>2</td>\n",
       "      <td>164</td>\n",
       "      <td>audi</td>\n",
       "      <td>gas</td>\n",
       "      <td>std</td>\n",
       "      <td>four</td>\n",
       "      <td>sedan</td>\n",
       "      <td>4wd</td>\n",
       "      <td>front</td>\n",
       "      <td>99.4</td>\n",
       "      <td>...</td>\n",
       "      <td>136</td>\n",
       "      <td>mpfi</td>\n",
       "      <td>3.19</td>\n",
       "      <td>3.40</td>\n",
       "      <td>8.0</td>\n",
       "      <td>115</td>\n",
       "      <td>5500</td>\n",
       "      <td>18</td>\n",
       "      <td>22</td>\n",
       "      <td>17450</td>\n",
       "    </tr>\n",
       "    <tr>\n",
       "      <th>5</th>\n",
       "      <td>2</td>\n",
       "      <td>?</td>\n",
       "      <td>audi</td>\n",
       "      <td>gas</td>\n",
       "      <td>std</td>\n",
       "      <td>two</td>\n",
       "      <td>sedan</td>\n",
       "      <td>fwd</td>\n",
       "      <td>front</td>\n",
       "      <td>99.8</td>\n",
       "      <td>...</td>\n",
       "      <td>136</td>\n",
       "      <td>mpfi</td>\n",
       "      <td>3.19</td>\n",
       "      <td>3.40</td>\n",
       "      <td>8.5</td>\n",
       "      <td>110</td>\n",
       "      <td>5500</td>\n",
       "      <td>19</td>\n",
       "      <td>25</td>\n",
       "      <td>15250</td>\n",
       "    </tr>\n",
       "    <tr>\n",
       "      <th>6</th>\n",
       "      <td>1</td>\n",
       "      <td>158</td>\n",
       "      <td>audi</td>\n",
       "      <td>gas</td>\n",
       "      <td>std</td>\n",
       "      <td>four</td>\n",
       "      <td>sedan</td>\n",
       "      <td>fwd</td>\n",
       "      <td>front</td>\n",
       "      <td>105.8</td>\n",
       "      <td>...</td>\n",
       "      <td>136</td>\n",
       "      <td>mpfi</td>\n",
       "      <td>3.19</td>\n",
       "      <td>3.40</td>\n",
       "      <td>8.5</td>\n",
       "      <td>110</td>\n",
       "      <td>5500</td>\n",
       "      <td>19</td>\n",
       "      <td>25</td>\n",
       "      <td>17710</td>\n",
       "    </tr>\n",
       "    <tr>\n",
       "      <th>7</th>\n",
       "      <td>1</td>\n",
       "      <td>?</td>\n",
       "      <td>audi</td>\n",
       "      <td>gas</td>\n",
       "      <td>std</td>\n",
       "      <td>four</td>\n",
       "      <td>wagon</td>\n",
       "      <td>fwd</td>\n",
       "      <td>front</td>\n",
       "      <td>105.8</td>\n",
       "      <td>...</td>\n",
       "      <td>136</td>\n",
       "      <td>mpfi</td>\n",
       "      <td>3.19</td>\n",
       "      <td>3.40</td>\n",
       "      <td>8.5</td>\n",
       "      <td>110</td>\n",
       "      <td>5500</td>\n",
       "      <td>19</td>\n",
       "      <td>25</td>\n",
       "      <td>18920</td>\n",
       "    </tr>\n",
       "    <tr>\n",
       "      <th>8</th>\n",
       "      <td>1</td>\n",
       "      <td>158</td>\n",
       "      <td>audi</td>\n",
       "      <td>gas</td>\n",
       "      <td>turbo</td>\n",
       "      <td>four</td>\n",
       "      <td>sedan</td>\n",
       "      <td>fwd</td>\n",
       "      <td>front</td>\n",
       "      <td>105.8</td>\n",
       "      <td>...</td>\n",
       "      <td>131</td>\n",
       "      <td>mpfi</td>\n",
       "      <td>3.13</td>\n",
       "      <td>3.40</td>\n",
       "      <td>8.3</td>\n",
       "      <td>140</td>\n",
       "      <td>5500</td>\n",
       "      <td>17</td>\n",
       "      <td>20</td>\n",
       "      <td>23875</td>\n",
       "    </tr>\n",
       "    <tr>\n",
       "      <th>9</th>\n",
       "      <td>0</td>\n",
       "      <td>?</td>\n",
       "      <td>audi</td>\n",
       "      <td>gas</td>\n",
       "      <td>turbo</td>\n",
       "      <td>two</td>\n",
       "      <td>hatchback</td>\n",
       "      <td>4wd</td>\n",
       "      <td>front</td>\n",
       "      <td>99.5</td>\n",
       "      <td>...</td>\n",
       "      <td>131</td>\n",
       "      <td>mpfi</td>\n",
       "      <td>3.13</td>\n",
       "      <td>3.40</td>\n",
       "      <td>7.0</td>\n",
       "      <td>160</td>\n",
       "      <td>5500</td>\n",
       "      <td>16</td>\n",
       "      <td>22</td>\n",
       "      <td>?</td>\n",
       "    </tr>\n",
       "    <tr>\n",
       "      <th>10</th>\n",
       "      <td>2</td>\n",
       "      <td>192</td>\n",
       "      <td>bmw</td>\n",
       "      <td>gas</td>\n",
       "      <td>std</td>\n",
       "      <td>two</td>\n",
       "      <td>sedan</td>\n",
       "      <td>rwd</td>\n",
       "      <td>front</td>\n",
       "      <td>101.2</td>\n",
       "      <td>...</td>\n",
       "      <td>108</td>\n",
       "      <td>mpfi</td>\n",
       "      <td>3.50</td>\n",
       "      <td>2.80</td>\n",
       "      <td>8.8</td>\n",
       "      <td>101</td>\n",
       "      <td>5800</td>\n",
       "      <td>23</td>\n",
       "      <td>29</td>\n",
       "      <td>16430</td>\n",
       "    </tr>\n",
       "    <tr>\n",
       "      <th>11</th>\n",
       "      <td>0</td>\n",
       "      <td>192</td>\n",
       "      <td>bmw</td>\n",
       "      <td>gas</td>\n",
       "      <td>std</td>\n",
       "      <td>four</td>\n",
       "      <td>sedan</td>\n",
       "      <td>rwd</td>\n",
       "      <td>front</td>\n",
       "      <td>101.2</td>\n",
       "      <td>...</td>\n",
       "      <td>108</td>\n",
       "      <td>mpfi</td>\n",
       "      <td>3.50</td>\n",
       "      <td>2.80</td>\n",
       "      <td>8.8</td>\n",
       "      <td>101</td>\n",
       "      <td>5800</td>\n",
       "      <td>23</td>\n",
       "      <td>29</td>\n",
       "      <td>16925</td>\n",
       "    </tr>\n",
       "    <tr>\n",
       "      <th>12</th>\n",
       "      <td>0</td>\n",
       "      <td>188</td>\n",
       "      <td>bmw</td>\n",
       "      <td>gas</td>\n",
       "      <td>std</td>\n",
       "      <td>two</td>\n",
       "      <td>sedan</td>\n",
       "      <td>rwd</td>\n",
       "      <td>front</td>\n",
       "      <td>101.2</td>\n",
       "      <td>...</td>\n",
       "      <td>164</td>\n",
       "      <td>mpfi</td>\n",
       "      <td>3.31</td>\n",
       "      <td>3.19</td>\n",
       "      <td>9.0</td>\n",
       "      <td>121</td>\n",
       "      <td>4250</td>\n",
       "      <td>21</td>\n",
       "      <td>28</td>\n",
       "      <td>20970</td>\n",
       "    </tr>\n",
       "    <tr>\n",
       "      <th>13</th>\n",
       "      <td>0</td>\n",
       "      <td>188</td>\n",
       "      <td>bmw</td>\n",
       "      <td>gas</td>\n",
       "      <td>std</td>\n",
       "      <td>four</td>\n",
       "      <td>sedan</td>\n",
       "      <td>rwd</td>\n",
       "      <td>front</td>\n",
       "      <td>101.2</td>\n",
       "      <td>...</td>\n",
       "      <td>164</td>\n",
       "      <td>mpfi</td>\n",
       "      <td>3.31</td>\n",
       "      <td>3.19</td>\n",
       "      <td>9.0</td>\n",
       "      <td>121</td>\n",
       "      <td>4250</td>\n",
       "      <td>21</td>\n",
       "      <td>28</td>\n",
       "      <td>21105</td>\n",
       "    </tr>\n",
       "    <tr>\n",
       "      <th>14</th>\n",
       "      <td>1</td>\n",
       "      <td>?</td>\n",
       "      <td>bmw</td>\n",
       "      <td>gas</td>\n",
       "      <td>std</td>\n",
       "      <td>four</td>\n",
       "      <td>sedan</td>\n",
       "      <td>rwd</td>\n",
       "      <td>front</td>\n",
       "      <td>103.5</td>\n",
       "      <td>...</td>\n",
       "      <td>164</td>\n",
       "      <td>mpfi</td>\n",
       "      <td>3.31</td>\n",
       "      <td>3.19</td>\n",
       "      <td>9.0</td>\n",
       "      <td>121</td>\n",
       "      <td>4250</td>\n",
       "      <td>20</td>\n",
       "      <td>25</td>\n",
       "      <td>24565</td>\n",
       "    </tr>\n",
       "    <tr>\n",
       "      <th>15</th>\n",
       "      <td>0</td>\n",
       "      <td>?</td>\n",
       "      <td>bmw</td>\n",
       "      <td>gas</td>\n",
       "      <td>std</td>\n",
       "      <td>four</td>\n",
       "      <td>sedan</td>\n",
       "      <td>rwd</td>\n",
       "      <td>front</td>\n",
       "      <td>103.5</td>\n",
       "      <td>...</td>\n",
       "      <td>209</td>\n",
       "      <td>mpfi</td>\n",
       "      <td>3.62</td>\n",
       "      <td>3.39</td>\n",
       "      <td>8.0</td>\n",
       "      <td>182</td>\n",
       "      <td>5400</td>\n",
       "      <td>16</td>\n",
       "      <td>22</td>\n",
       "      <td>30760</td>\n",
       "    </tr>\n",
       "    <tr>\n",
       "      <th>16</th>\n",
       "      <td>0</td>\n",
       "      <td>?</td>\n",
       "      <td>bmw</td>\n",
       "      <td>gas</td>\n",
       "      <td>std</td>\n",
       "      <td>two</td>\n",
       "      <td>sedan</td>\n",
       "      <td>rwd</td>\n",
       "      <td>front</td>\n",
       "      <td>103.5</td>\n",
       "      <td>...</td>\n",
       "      <td>209</td>\n",
       "      <td>mpfi</td>\n",
       "      <td>3.62</td>\n",
       "      <td>3.39</td>\n",
       "      <td>8.0</td>\n",
       "      <td>182</td>\n",
       "      <td>5400</td>\n",
       "      <td>16</td>\n",
       "      <td>22</td>\n",
       "      <td>41315</td>\n",
       "    </tr>\n",
       "    <tr>\n",
       "      <th>17</th>\n",
       "      <td>0</td>\n",
       "      <td>?</td>\n",
       "      <td>bmw</td>\n",
       "      <td>gas</td>\n",
       "      <td>std</td>\n",
       "      <td>four</td>\n",
       "      <td>sedan</td>\n",
       "      <td>rwd</td>\n",
       "      <td>front</td>\n",
       "      <td>110.0</td>\n",
       "      <td>...</td>\n",
       "      <td>209</td>\n",
       "      <td>mpfi</td>\n",
       "      <td>3.62</td>\n",
       "      <td>3.39</td>\n",
       "      <td>8.0</td>\n",
       "      <td>182</td>\n",
       "      <td>5400</td>\n",
       "      <td>15</td>\n",
       "      <td>20</td>\n",
       "      <td>36880</td>\n",
       "    </tr>\n",
       "    <tr>\n",
       "      <th>18</th>\n",
       "      <td>2</td>\n",
       "      <td>121</td>\n",
       "      <td>chevrolet</td>\n",
       "      <td>gas</td>\n",
       "      <td>std</td>\n",
       "      <td>two</td>\n",
       "      <td>hatchback</td>\n",
       "      <td>fwd</td>\n",
       "      <td>front</td>\n",
       "      <td>88.4</td>\n",
       "      <td>...</td>\n",
       "      <td>61</td>\n",
       "      <td>2bbl</td>\n",
       "      <td>2.91</td>\n",
       "      <td>3.03</td>\n",
       "      <td>9.5</td>\n",
       "      <td>48</td>\n",
       "      <td>5100</td>\n",
       "      <td>47</td>\n",
       "      <td>53</td>\n",
       "      <td>5151</td>\n",
       "    </tr>\n",
       "    <tr>\n",
       "      <th>19</th>\n",
       "      <td>1</td>\n",
       "      <td>98</td>\n",
       "      <td>chevrolet</td>\n",
       "      <td>gas</td>\n",
       "      <td>std</td>\n",
       "      <td>two</td>\n",
       "      <td>hatchback</td>\n",
       "      <td>fwd</td>\n",
       "      <td>front</td>\n",
       "      <td>94.5</td>\n",
       "      <td>...</td>\n",
       "      <td>90</td>\n",
       "      <td>2bbl</td>\n",
       "      <td>3.03</td>\n",
       "      <td>3.11</td>\n",
       "      <td>9.6</td>\n",
       "      <td>70</td>\n",
       "      <td>5400</td>\n",
       "      <td>38</td>\n",
       "      <td>43</td>\n",
       "      <td>6295</td>\n",
       "    </tr>\n",
       "  </tbody>\n",
       "</table>\n",
       "<p>20 rows × 26 columns</p>\n",
       "</div>"
      ],
      "text/plain": [
       "    symboling normalized-losses         make fuel-type aspiration  \\\n",
       "0           3                 ?  alfa-romero       gas        std   \n",
       "1           3                 ?  alfa-romero       gas        std   \n",
       "2           1                 ?  alfa-romero       gas        std   \n",
       "3           2               164         audi       gas        std   \n",
       "4           2               164         audi       gas        std   \n",
       "5           2                 ?         audi       gas        std   \n",
       "6           1               158         audi       gas        std   \n",
       "7           1                 ?         audi       gas        std   \n",
       "8           1               158         audi       gas      turbo   \n",
       "9           0                 ?         audi       gas      turbo   \n",
       "10          2               192          bmw       gas        std   \n",
       "11          0               192          bmw       gas        std   \n",
       "12          0               188          bmw       gas        std   \n",
       "13          0               188          bmw       gas        std   \n",
       "14          1                 ?          bmw       gas        std   \n",
       "15          0                 ?          bmw       gas        std   \n",
       "16          0                 ?          bmw       gas        std   \n",
       "17          0                 ?          bmw       gas        std   \n",
       "18          2               121    chevrolet       gas        std   \n",
       "19          1                98    chevrolet       gas        std   \n",
       "\n",
       "   num-of-doors   body-style drive-wheels engine-location  wheel-base  ...    \\\n",
       "0           two  convertible          rwd           front        88.6  ...     \n",
       "1           two  convertible          rwd           front        88.6  ...     \n",
       "2           two    hatchback          rwd           front        94.5  ...     \n",
       "3          four        sedan          fwd           front        99.8  ...     \n",
       "4          four        sedan          4wd           front        99.4  ...     \n",
       "5           two        sedan          fwd           front        99.8  ...     \n",
       "6          four        sedan          fwd           front       105.8  ...     \n",
       "7          four        wagon          fwd           front       105.8  ...     \n",
       "8          four        sedan          fwd           front       105.8  ...     \n",
       "9           two    hatchback          4wd           front        99.5  ...     \n",
       "10          two        sedan          rwd           front       101.2  ...     \n",
       "11         four        sedan          rwd           front       101.2  ...     \n",
       "12          two        sedan          rwd           front       101.2  ...     \n",
       "13         four        sedan          rwd           front       101.2  ...     \n",
       "14         four        sedan          rwd           front       103.5  ...     \n",
       "15         four        sedan          rwd           front       103.5  ...     \n",
       "16          two        sedan          rwd           front       103.5  ...     \n",
       "17         four        sedan          rwd           front       110.0  ...     \n",
       "18          two    hatchback          fwd           front        88.4  ...     \n",
       "19          two    hatchback          fwd           front        94.5  ...     \n",
       "\n",
       "    engine-size  fuel-system  bore  stroke compression-ratio horsepower  \\\n",
       "0           130         mpfi  3.47    2.68               9.0        111   \n",
       "1           130         mpfi  3.47    2.68               9.0        111   \n",
       "2           152         mpfi  2.68    3.47               9.0        154   \n",
       "3           109         mpfi  3.19    3.40              10.0        102   \n",
       "4           136         mpfi  3.19    3.40               8.0        115   \n",
       "5           136         mpfi  3.19    3.40               8.5        110   \n",
       "6           136         mpfi  3.19    3.40               8.5        110   \n",
       "7           136         mpfi  3.19    3.40               8.5        110   \n",
       "8           131         mpfi  3.13    3.40               8.3        140   \n",
       "9           131         mpfi  3.13    3.40               7.0        160   \n",
       "10          108         mpfi  3.50    2.80               8.8        101   \n",
       "11          108         mpfi  3.50    2.80               8.8        101   \n",
       "12          164         mpfi  3.31    3.19               9.0        121   \n",
       "13          164         mpfi  3.31    3.19               9.0        121   \n",
       "14          164         mpfi  3.31    3.19               9.0        121   \n",
       "15          209         mpfi  3.62    3.39               8.0        182   \n",
       "16          209         mpfi  3.62    3.39               8.0        182   \n",
       "17          209         mpfi  3.62    3.39               8.0        182   \n",
       "18           61         2bbl  2.91    3.03               9.5         48   \n",
       "19           90         2bbl  3.03    3.11               9.6         70   \n",
       "\n",
       "    peak-rpm city-mpg highway-mpg  price  \n",
       "0       5000       21          27  13495  \n",
       "1       5000       21          27  16500  \n",
       "2       5000       19          26  16500  \n",
       "3       5500       24          30  13950  \n",
       "4       5500       18          22  17450  \n",
       "5       5500       19          25  15250  \n",
       "6       5500       19          25  17710  \n",
       "7       5500       19          25  18920  \n",
       "8       5500       17          20  23875  \n",
       "9       5500       16          22      ?  \n",
       "10      5800       23          29  16430  \n",
       "11      5800       23          29  16925  \n",
       "12      4250       21          28  20970  \n",
       "13      4250       21          28  21105  \n",
       "14      4250       20          25  24565  \n",
       "15      5400       16          22  30760  \n",
       "16      5400       16          22  41315  \n",
       "17      5400       15          20  36880  \n",
       "18      5100       47          53   5151  \n",
       "19      5400       38          43   6295  \n",
       "\n",
       "[20 rows x 26 columns]"
      ]
     },
     "execution_count": 21,
     "metadata": {},
     "output_type": "execute_result"
    }
   ],
   "source": [
    "auto_prices = pd.read_csv('Automobile price data _Raw_.csv')\n",
    "auto_prices.head(20)"
   ]
  },
  {
   "cell_type": "markdown",
   "metadata": {},
   "source": [
    "### Recode names\n",
    "\n",
    "Notice that several of the column names contain the '-' character. Python will not correctly recognize character strings containing '-'.  Rather, such a name will be recognized as two character strings. The same problem will occur with column values containing many special characters including, '-', ',', '*', '/', '|', '>', '<', '@', '!' etc. If such characters appear in column names of values, they must be replaced with another character. \n",
    "\n",
    "Execute the code in the cell below to replacec the '-' characters by '_':"
   ]
  },
  {
   "cell_type": "code",
   "execution_count": 22,
   "metadata": {},
   "outputs": [],
   "source": [
    "auto_prices.columns = [str.replace('-', '_') for str in auto_prices.columns]"
   ]
  },
  {
   "cell_type": "markdown",
   "metadata": {},
   "source": [
    "### Treat missing values\n",
    "\n",
    "**Missing values** are a common problem in data set. Failure to deal with missing values before training a machine learning model will lead to biased training at best, and in many cases actual failure. The Python Scikit Learn package wil not procecss arrays with missing values. \n",
    "\n",
    "There are two problems that must be deal with when treating missing values:\n",
    "1. First you must find the missing values. This can be difficult as there is no standard way missing values are coded. Some common possibilities for missing values are:\n",
    "  - Coded by some particular character string, or numeric value like -999. \n",
    "  - A NULL value or numeric missing value such as a NaN. \n",
    "2. You must determine how to treat the missing values:\n",
    "  - Remove featurers with substantial numbers of missing values. In many cases, such features are likely to have little infomation value. \n",
    "  - Remove rows with missing values. If there are only a few rows with missing values it might be easier and more certian to simply remove them. \n",
    "  - Impute values. Imputation can be done with simple algorithms such as replacing the missing values with the mean or median value. There are also complex statistical methods such as the expectation maximizaton (EM) or SMOTE algorithms. \n",
    "  - Use nearest neighbor values. Alternatives for nearest neighbor values include, aveaging, forward filling or backward filling. \n",
    "  \n",
    "If you carefully observe the first few cases from the data frame, and notice that missing values are coded with a '?' character. Execute the code in the cell below to identify the columns with missing values."
   ]
  },
  {
   "cell_type": "code",
   "execution_count": 23,
   "metadata": {},
   "outputs": [
    {
     "data": {
      "text/plain": [
       "symboling            False\n",
       "normalized_losses     True\n",
       "make                 False\n",
       "fuel_type            False\n",
       "aspiration           False\n",
       "num_of_doors          True\n",
       "body_style           False\n",
       "drive_wheels         False\n",
       "engine_location      False\n",
       "wheel_base           False\n",
       "length               False\n",
       "width                False\n",
       "height               False\n",
       "curb_weight          False\n",
       "engine_type          False\n",
       "num_of_cylinders     False\n",
       "engine_size          False\n",
       "fuel_system          False\n",
       "bore                  True\n",
       "stroke                True\n",
       "compression_ratio    False\n",
       "horsepower            True\n",
       "peak_rpm              True\n",
       "city_mpg             False\n",
       "highway_mpg          False\n",
       "price                 True\n",
       "dtype: bool"
      ]
     },
     "execution_count": 23,
     "metadata": {},
     "output_type": "execute_result"
    }
   ],
   "source": [
    "(auto_prices == '?').any()"
   ]
  },
  {
   "cell_type": "markdown",
   "metadata": {},
   "source": [
    "Execute the code in the cell below to display the data types of each column."
   ]
  },
  {
   "cell_type": "code",
   "execution_count": 24,
   "metadata": {},
   "outputs": [
    {
     "data": {
      "text/plain": [
       "symboling              int64\n",
       "normalized_losses     object\n",
       "make                  object\n",
       "fuel_type             object\n",
       "aspiration            object\n",
       "num_of_doors          object\n",
       "body_style            object\n",
       "drive_wheels          object\n",
       "engine_location       object\n",
       "wheel_base           float64\n",
       "length               float64\n",
       "width                float64\n",
       "height               float64\n",
       "curb_weight            int64\n",
       "engine_type           object\n",
       "num_of_cylinders      object\n",
       "engine_size            int64\n",
       "fuel_system           object\n",
       "bore                  object\n",
       "stroke                object\n",
       "compression_ratio    float64\n",
       "horsepower            object\n",
       "peak_rpm              object\n",
       "city_mpg               int64\n",
       "highway_mpg            int64\n",
       "price                 object\n",
       "dtype: object"
      ]
     },
     "execution_count": 24,
     "metadata": {},
     "output_type": "execute_result"
    }
   ],
   "source": [
    "auto_prices.dtypes"
   ]
  },
  {
   "cell_type": "markdown",
   "metadata": {},
   "source": [
    "Compare the columns with missing values to their data types. In all cases, the columns with missing values have an `object` (character) type as a result of using the '?' code. As a result, some columns that should be numeric (bore, stroke, horsepower, peak_rpm, and price) are coded as `object`.\n",
    "\n",
    "The next question is how many missing values are in each of these `object` type columns? Execute the code in the cell below to display the counts of missing values. "
   ]
  },
  {
   "cell_type": "code",
   "execution_count": 25,
   "metadata": {},
   "outputs": [
    {
     "name": "stdout",
     "output_type": "stream",
     "text": [
      "normalized_losses 41\n",
      "make 0\n",
      "fuel_type 0\n",
      "aspiration 0\n",
      "num_of_doors 2\n",
      "body_style 0\n",
      "drive_wheels 0\n",
      "engine_location 0\n",
      "engine_type 0\n",
      "num_of_cylinders 0\n",
      "fuel_system 0\n",
      "bore 4\n",
      "stroke 4\n",
      "horsepower 2\n",
      "peak_rpm 2\n",
      "price 4\n"
     ]
    }
   ],
   "source": [
    "for col in auto_prices.columns:\n",
    "    if auto_prices[col].dtype == object:\n",
    "        count = 0\n",
    "        count = [count + 1 for x in auto_prices[col] if x == '?']\n",
    "        print(col + ' ' + str(sum(count)))"
   ]
  },
  {
   "cell_type": "markdown",
   "metadata": {},
   "source": [
    "The `normalize_losses` column has a significant number of missing values and will be removed. Columns that should be numeric, but contain missing values, are processed in the following manner:\n",
    "1. The '?' values are computed to Pandas Numpy missing values `nan`.\n",
    "2. Rows containing `nan` values are removed. \n",
    "\n",
    "Execute this code, noticing the resulting shape of the data frame. "
   ]
  },
  {
   "cell_type": "code",
   "execution_count": 26,
   "metadata": {},
   "outputs": [
    {
     "data": {
      "text/plain": [
       "(195, 25)"
      ]
     },
     "execution_count": 26,
     "metadata": {},
     "output_type": "execute_result"
    }
   ],
   "source": [
    "## Drop column with too many missing values\n",
    "auto_prices.drop('normalized_losses', axis = 1, inplace = True)\n",
    "## Remove rows with missing values, accounting for mising values coded as '?'\n",
    "cols = ['price', 'bore', 'stroke',\n",
    "          'horsepower', 'peak_rpm']\n",
    "for column in cols:\n",
    "    auto_prices.loc[auto_prices[column] == '?', column] = np.nan\n",
    "    auto_prices.dropna(axis = 0, inplace = True)\n",
    "auto_prices.shape    "
   ]
  },
  {
   "cell_type": "markdown",
   "metadata": {},
   "source": [
    "The data set now contains 195 cases and 25 rows. 10 rows have been dropped by removing misisng values. "
   ]
  },
  {
   "cell_type": "markdown",
   "metadata": {},
   "source": [
    "### Transform column data type\n",
    "\n",
    "As has been previously noted, there are five columns in this dataset which do not have the correct type as a result of mising values. This is a common situation, as the methods used to automatically determine data type when loading files can fail when missing values are present. \n",
    "\n",
    "The code in the cell below iterates over a list of columns setting them to numeric. Execute this code and observe the resulting  types."
   ]
  },
  {
   "cell_type": "code",
   "execution_count": 27,
   "metadata": {},
   "outputs": [
    {
     "data": {
      "text/plain": [
       "price           int64\n",
       "bore          float64\n",
       "stroke        float64\n",
       "horsepower      int64\n",
       "peak_rpm        int64\n",
       "dtype: object"
      ]
     },
     "execution_count": 27,
     "metadata": {},
     "output_type": "execute_result"
    }
   ],
   "source": [
    "for column in cols:\n",
    "    auto_prices[column] = pd.to_numeric(auto_prices[column])\n",
    "auto_prices[cols].dtypes"
   ]
  },
  {
   "cell_type": "markdown",
   "metadata": {},
   "source": [
    "### Feature engineering and transforming variables\n",
    "\n",
    "In most cases, machine learning is not done with the raw features. Features are transformed, or combined to form new features in forms which are more predictive This process is known as **feature engineering**. In many cases, good feature engineering is more important than the details of the machine learning model used. It is often the case that good features can make even poor machine learning models work well, whereas, given poor features even the best machine learning model will produce poor results. Some common approaches to feature engineering include:\n",
    "- **Tansforming numeric variables** to improve their distribution properties of make them more covariate with other variables. This process can be applied not only features, but to labels for regression problems. Some common transformations inclcude, **logrithmic** and **power** included squares and squareroots. \n",
    "- **Aggregating categories** of categorical variables to reduce the number. Categorical features or labels with too many unique categories will limit the predictive power of a machine learning model. Aggregating categories can improve this situation, sometime greatly. However, one must be careful. It only makes sense to aggregate categories that are similar in the domain of the problem. Thus, domain expersise must be applied. \n",
    "- **Compute new features** from two or more existing features. These new features are often referred to as **interaction terms**. An interaction occurs when the behavior of say, the produce of the values of two features, is significantly more predictive than the two features by themselves. Consider the probaility of purchase for a luxury mens' shoe. This probability we depend on the interaction of the user being a man and the buyer being wealthy. "
   ]
  },
  {
   "cell_type": "markdown",
   "metadata": {},
   "source": [
    "#### Agregating categorical variables\n",
    "\n",
    "When a dataset contains categorical variables these need to be investigated to ensure that each category has sufficient samples. It is commonly the case that some categories may have very few samples, or have so many similar categories as to be meaningless. \n",
    "\n",
    "As a specific case, you will examine the number of cylinders in the cars. Execute the cell below to print a frequency table for this variable and examine the result. "
   ]
  },
  {
   "cell_type": "code",
   "execution_count": 28,
   "metadata": {},
   "outputs": [
    {
     "data": {
      "text/plain": [
       "four      155\n",
       "six        24\n",
       "five       10\n",
       "eight       4\n",
       "twelve      1\n",
       "three       1\n",
       "Name: num_of_cylinders, dtype: int64"
      ]
     },
     "execution_count": 28,
     "metadata": {},
     "output_type": "execute_result"
    }
   ],
   "source": [
    "auto_prices['num_of_cylinders'].value_counts()"
   ]
  },
  {
   "cell_type": "markdown",
   "metadata": {},
   "source": [
    "Notice that there is only one car with three and twelve cylinders. There are only four cars with eight cylinders, and 10 cars with five cylinders. It is likely that all of these categories will not have statistically significant difference in predicting auto price. It is clear that these categories need to be aggregated. \n",
    "\n",
    "The code in the cell below uses a Python dictionary to recode the number of cylinder categories into a smaller number categories. Execute this code and examine the resulting frequency table."
   ]
  },
  {
   "cell_type": "code",
   "execution_count": 29,
   "metadata": {},
   "outputs": [
    {
     "data": {
      "text/plain": [
       "three_four      156\n",
       "five_six         34\n",
       "eight_twelve      5\n",
       "Name: num_of_cylinders, dtype: int64"
      ]
     },
     "execution_count": 29,
     "metadata": {},
     "output_type": "execute_result"
    }
   ],
   "source": [
    "cylinder_categories = {'three':'three_four', 'four':'three_four', \n",
    "                    'five':'five_six', 'six':'five_six',\n",
    "                    'eight':'eight_twelve', 'twelve':'eight_twelve'}\n",
    "auto_prices['num_of_cylinders'] = [cylinder_categories[x] for x in auto_prices['num_of_cylinders']]\n",
    "auto_prices['num_of_cylinders'].value_counts()"
   ]
  },
  {
   "cell_type": "markdown",
   "metadata": {},
   "source": [
    "There are now three categories. One of these categories only has five members. However, it is likely that these autos will have different pricing from others.\n",
    "\n",
    "Next, exectue the code in the cell below to make box plots of the new cylinder categories."
   ]
  },
  {
   "cell_type": "code",
   "execution_count": 30,
   "metadata": {},
   "outputs": [
    {
     "data": {
      "image/png": "[encoded data removed]",
      "text/plain": [
       "<matplotlib.figure.Figure at 0x20e66538a58>"
      ]
     },
     "metadata": {},
     "output_type": "display_data"
    }
   ],
   "source": [
    "def plot_box(auto_prices, col, col_y = 'price'):\n",
    "    sns.set_style(\"whitegrid\")\n",
    "    sns.boxplot(col, col_y, data=auto_prices)\n",
    "    plt.xlabel(col) # Set text for the x axis\n",
    "    plt.ylabel(col_y)# Set text for y axis\n",
    "    plt.show()\n",
    "    \n",
    "plot_box(auto_prices, 'num_of_cylinders')    "
   ]
  },
  {
   "cell_type": "markdown",
   "metadata": {},
   "source": [
    "Indeed, the price range of these categories is distinctive. It is likely that these new categories will be usefu in predicting the price of autos. \n",
    "\n",
    "Now, execute the code in the cell below and examine the frequency table for the `body_style` feature."
   ]
  },
  {
   "cell_type": "code",
   "execution_count": 31,
   "metadata": {},
   "outputs": [
    {
     "data": {
      "text/plain": [
       "sedan          94\n",
       "hatchback      63\n",
       "wagon          24\n",
       "hardtop         8\n",
       "convertible     6\n",
       "Name: body_style, dtype: int64"
      ]
     },
     "execution_count": 31,
     "metadata": {},
     "output_type": "execute_result"
    }
   ],
   "source": [
    "auto_prices['body_style'].value_counts()"
   ]
  },
  {
   "cell_type": "markdown",
   "metadata": {},
   "source": [
    "Two of these categories have a limited number of members. These categories can be aggregated to increase the number of cases using a similar approach as used for the number of cylinders. Execute the code in the cell below to aggregate these categories."
   ]
  },
  {
   "cell_type": "code",
   "execution_count": 32,
   "metadata": {},
   "outputs": [
    {
     "data": {
      "text/plain": [
       "sedan              94\n",
       "hatchback          63\n",
       "wagon              24\n",
       "hardtop_convert    14\n",
       "Name: body_style, dtype: int64"
      ]
     },
     "execution_count": 32,
     "metadata": {},
     "output_type": "execute_result"
    }
   ],
   "source": [
    "body_cats = {'sedan':'sedan', 'hatchback':'hatchback', 'wagon':'wagon', \n",
    "             'hardtop':'hardtop_convert', 'convertible':'hardtop_convert'}\n",
    "auto_prices['body_style'] = [body_cats[x] for x in auto_prices['body_style']]\n",
    "auto_prices['body_style'].value_counts()"
   ]
  },
  {
   "cell_type": "markdown",
   "metadata": {},
   "source": [
    "To investigate if this aggregation of categories was a good idea, execute the code in the cell below to display a box plot. "
   ]
  },
  {
   "cell_type": "code",
   "execution_count": 33,
   "metadata": {},
   "outputs": [
    {
     "data": {
      "image/png": "[encoded data removed]",
      "text/plain": [
       "<matplotlib.figure.Figure at 0x20e6655cba8>"
      ]
     },
     "metadata": {},
     "output_type": "display_data"
    }
   ],
   "source": [
    "def plot_box(auto_prices, col, col_y = 'price'):\n",
    "    sns.set_style(\"whitegrid\")\n",
    "    sns.boxplot(col, col_y, data=auto_prices)\n",
    "    plt.xlabel(col) # Set text for the x axis\n",
    "    plt.ylabel(col_y)# Set text for y axis\n",
    "    plt.show()\n",
    "    \n",
    "plot_box(auto_prices, 'body_style')    "
   ]
  },
  {
   "cell_type": "markdown",
   "metadata": {},
   "source": [
    "The `hardtop_convert` category does appear to have values distinct from the other body style. "
   ]
  },
  {
   "cell_type": "markdown",
   "metadata": {},
   "source": [
    "#### Transforming numeric variables\n",
    "\n",
    "To improve performance of machine learning models transformations of the values are often applied. Typically, transformations are used to make the relationships betweeen variables more linear. In other cases, transformations are performed to make distributions closer to Normal, or at least more symmetric. These transformations can include taking logarithms, exponential transformations and power transformations. \n",
    "\n",
    "In this case, you will transform the label, the price of the car. Execute the code in the cell below to display and examine a histogram of the label. "
   ]
  },
  {
   "cell_type": "code",
   "execution_count": 34,
   "metadata": {},
   "outputs": [
    {
     "data": {
      "image/png": "[encoded data removed]",
      "text/plain": [
       "<matplotlib.figure.Figure at 0x20e665d8eb8>"
      ]
     },
     "metadata": {},
     "output_type": "display_data"
    }
   ],
   "source": [
    "def hist_plot(vals, lab):\n",
    "    ## Distribution plot of values\n",
    "    sns.distplot(vals)\n",
    "    plt.title('Histogram of ' + lab)\n",
    "    plt.xlabel('Value')\n",
    "    plt.ylabel('Density')\n",
    "    \n",
    "#labels = np.array(auto_prices['price'])\n",
    "hist_plot(auto_prices['price'], 'prices')"
   ]
  },
  {
   "cell_type": "markdown",
   "metadata": {},
   "source": [
    "The distribution of auto price is both quite skewed to the left and multimodal. Given the skew and the fact that there are no values less than or equal to zero, a log transformation might be appropriate.\n",
    "\n",
    "The code in the cell below displays a histogram of the logarithm of prices. Execute this code and examine the result."
   ]
  },
  {
   "cell_type": "code",
   "execution_count": 35,
   "metadata": {},
   "outputs": [
    {
     "data": {
      "image/png": "[encoded data removed]",
      "text/plain": [
       "<matplotlib.figure.Figure at 0x20e6659f9b0>"
      ]
     },
     "metadata": {},
     "output_type": "display_data"
    }
   ],
   "source": [
    "auto_prices['log_price'] = np.log(auto_prices['price'])\n",
    "hist_plot(auto_prices['log_price'], 'log prices')"
   ]
  },
  {
   "cell_type": "markdown",
   "metadata": {},
   "source": [
    "The distributio of the logarithm of price is more symmetric, but still shows some multimodal tendancy and skew. None the less, this is an improvement so we will use these values as our label.\n",
    "\n",
    "The next question is, how does this transformation change the relationship between the label and some of the features? To "
   ]
  },
  {
   "cell_type": "code",
   "execution_count": 36,
   "metadata": {},
   "outputs": [
    {
     "data": {
      "image/png": "[encoded data removed]",
      "text/plain": [
       "<matplotlib.figure.Figure at 0x20e66704da0>"
      ]
     },
     "metadata": {},
     "output_type": "display_data"
    },
    {
     "data": {
      "image/png": "[encoded data removed]",
      "text/plain": [
       "<matplotlib.figure.Figure at 0x20e66716898>"
      ]
     },
     "metadata": {},
     "output_type": "display_data"
    },
    {
     "data": {
      "image/png": "[encoded data removed]",
      "text/plain": [
       "<matplotlib.figure.Figure at 0x20e66644828>"
      ]
     },
     "metadata": {},
     "output_type": "display_data"
    },
    {
     "data": {
      "image/png": "[encoded data removed]",
      "text/plain": [
       "<matplotlib.figure.Figure at 0x20e662b3cf8>"
      ]
     },
     "metadata": {},
     "output_type": "display_data"
    }
   ],
   "source": [
    "def plot_scatter_shape(auto_prices, cols, shape_col = 'fuel_type', col_y = 'log_price', alpha = 0.2):\n",
    "    shapes = ['+', 'o', 's', 'x', '^'] # pick distinctive shapes\n",
    "    unique_cats = auto_prices[shape_col].unique()\n",
    "    for col in cols: # loop over the columns to plot\n",
    "        sns.set_style(\"whitegrid\")\n",
    "        for i, cat in enumerate(unique_cats): # loop over the unique categories\n",
    "            temp = auto_prices[auto_prices[shape_col] == cat]\n",
    "            sns.regplot(col, col_y, data=temp, marker = shapes[i], label = cat,\n",
    "                        scatter_kws={\"alpha\":alpha}, fit_reg = False, color = 'blue')\n",
    "        plt.title('Scatter plot of ' + col_y + ' vs. ' + col) # Give the plot a main title\n",
    "        plt.xlabel(col) # Set text for the x axis\n",
    "        plt.ylabel(col_y)# Set text for y axis\n",
    "        plt.legend()\n",
    "        plt.show()\n",
    "            \n",
    "num_cols = ['curb_weight', 'engine_size', 'horsepower', 'city_mpg']\n",
    "plot_scatter_shape(auto_prices, num_cols)   "
   ]
  },
  {
   "cell_type": "markdown",
   "metadata": {},
   "source": [
    "Comparing the results to those obtained in the visualization lab, it does appear that the relationships between curb weight and log price and city MPG and log price are more linear. \n",
    "\n",
    "The relationship with the log price and categorical variables should likely also be investigted. It is also possible that some type of power transformation should be applied to say horsepower or engine size. In the interest of brevity, these ideas are not pursued here. "
   ]
  },
  {
   "cell_type": "markdown",
   "metadata": {},
   "source": [
    "## Another example\n",
    "\n",
    "Next, you will prepare the German credit data. Execute the code in the cell below  to load the dataset and print the head (first 5 rows) of the dataframe."
   ]
  },
  {
   "cell_type": "code",
   "execution_count": 37,
   "metadata": {},
   "outputs": [
    {
     "data": {
      "text/html": [
       "<div>\n",
       "<style scoped>\n",
       "    .dataframe tbody tr th:only-of-type {\n",
       "        vertical-align: middle;\n",
       "    }\n",
       "\n",
       "    .dataframe tbody tr th {\n",
       "        vertical-align: top;\n",
       "    }\n",
       "\n",
       "    .dataframe thead th {\n",
       "        text-align: right;\n",
       "    }\n",
       "</style>\n",
       "<table border=\"1\" class=\"dataframe\">\n",
       "  <thead>\n",
       "    <tr style=\"text-align: right;\">\n",
       "      <th></th>\n",
       "      <th>A1</th>\n",
       "      <th>A11</th>\n",
       "      <th>6</th>\n",
       "      <th>A34</th>\n",
       "      <th>A43</th>\n",
       "      <th>1169</th>\n",
       "      <th>A65</th>\n",
       "      <th>A75</th>\n",
       "      <th>4</th>\n",
       "      <th>A93</th>\n",
       "      <th>...</th>\n",
       "      <th>A121</th>\n",
       "      <th>67</th>\n",
       "      <th>A143</th>\n",
       "      <th>A152</th>\n",
       "      <th>2</th>\n",
       "      <th>A173</th>\n",
       "      <th>1</th>\n",
       "      <th>A192</th>\n",
       "      <th>A201</th>\n",
       "      <th>1.1</th>\n",
       "    </tr>\n",
       "  </thead>\n",
       "  <tbody>\n",
       "    <tr>\n",
       "      <th>0</th>\n",
       "      <td>6156361</td>\n",
       "      <td>A12</td>\n",
       "      <td>48</td>\n",
       "      <td>A32</td>\n",
       "      <td>A43</td>\n",
       "      <td>5951</td>\n",
       "      <td>A61</td>\n",
       "      <td>A73</td>\n",
       "      <td>2</td>\n",
       "      <td>A92</td>\n",
       "      <td>...</td>\n",
       "      <td>A121</td>\n",
       "      <td>22</td>\n",
       "      <td>A143</td>\n",
       "      <td>A152</td>\n",
       "      <td>1</td>\n",
       "      <td>A173</td>\n",
       "      <td>1</td>\n",
       "      <td>A191</td>\n",
       "      <td>A201</td>\n",
       "      <td>2</td>\n",
       "    </tr>\n",
       "    <tr>\n",
       "      <th>1</th>\n",
       "      <td>2051359</td>\n",
       "      <td>A14</td>\n",
       "      <td>12</td>\n",
       "      <td>A34</td>\n",
       "      <td>A46</td>\n",
       "      <td>2096</td>\n",
       "      <td>A61</td>\n",
       "      <td>A74</td>\n",
       "      <td>2</td>\n",
       "      <td>A93</td>\n",
       "      <td>...</td>\n",
       "      <td>A121</td>\n",
       "      <td>49</td>\n",
       "      <td>A143</td>\n",
       "      <td>A152</td>\n",
       "      <td>1</td>\n",
       "      <td>A172</td>\n",
       "      <td>2</td>\n",
       "      <td>A191</td>\n",
       "      <td>A201</td>\n",
       "      <td>1</td>\n",
       "    </tr>\n",
       "    <tr>\n",
       "      <th>2</th>\n",
       "      <td>8740590</td>\n",
       "      <td>A11</td>\n",
       "      <td>42</td>\n",
       "      <td>A32</td>\n",
       "      <td>A42</td>\n",
       "      <td>7882</td>\n",
       "      <td>A61</td>\n",
       "      <td>A74</td>\n",
       "      <td>2</td>\n",
       "      <td>A93</td>\n",
       "      <td>...</td>\n",
       "      <td>A122</td>\n",
       "      <td>45</td>\n",
       "      <td>A143</td>\n",
       "      <td>A153</td>\n",
       "      <td>1</td>\n",
       "      <td>A173</td>\n",
       "      <td>2</td>\n",
       "      <td>A191</td>\n",
       "      <td>A201</td>\n",
       "      <td>1</td>\n",
       "    </tr>\n",
       "    <tr>\n",
       "      <th>3</th>\n",
       "      <td>3924540</td>\n",
       "      <td>A11</td>\n",
       "      <td>24</td>\n",
       "      <td>A33</td>\n",
       "      <td>A40</td>\n",
       "      <td>4870</td>\n",
       "      <td>A61</td>\n",
       "      <td>A73</td>\n",
       "      <td>3</td>\n",
       "      <td>A93</td>\n",
       "      <td>...</td>\n",
       "      <td>A124</td>\n",
       "      <td>53</td>\n",
       "      <td>A143</td>\n",
       "      <td>A153</td>\n",
       "      <td>2</td>\n",
       "      <td>A173</td>\n",
       "      <td>2</td>\n",
       "      <td>A191</td>\n",
       "      <td>A201</td>\n",
       "      <td>2</td>\n",
       "    </tr>\n",
       "    <tr>\n",
       "      <th>4</th>\n",
       "      <td>3115687</td>\n",
       "      <td>A14</td>\n",
       "      <td>36</td>\n",
       "      <td>A32</td>\n",
       "      <td>A46</td>\n",
       "      <td>9055</td>\n",
       "      <td>A65</td>\n",
       "      <td>A73</td>\n",
       "      <td>2</td>\n",
       "      <td>A93</td>\n",
       "      <td>...</td>\n",
       "      <td>A124</td>\n",
       "      <td>35</td>\n",
       "      <td>A143</td>\n",
       "      <td>A153</td>\n",
       "      <td>1</td>\n",
       "      <td>A172</td>\n",
       "      <td>2</td>\n",
       "      <td>A192</td>\n",
       "      <td>A201</td>\n",
       "      <td>1</td>\n",
       "    </tr>\n",
       "  </tbody>\n",
       "</table>\n",
       "<p>5 rows × 22 columns</p>\n",
       "</div>"
      ],
      "text/plain": [
       "        A1  A11   6  A34  A43  1169  A65  A75  4  A93 ...  A121  67  A143  \\\n",
       "0  6156361  A12  48  A32  A43  5951  A61  A73  2  A92 ...  A121  22  A143   \n",
       "1  2051359  A14  12  A34  A46  2096  A61  A74  2  A93 ...  A121  49  A143   \n",
       "2  8740590  A11  42  A32  A42  7882  A61  A74  2  A93 ...  A122  45  A143   \n",
       "3  3924540  A11  24  A33  A40  4870  A61  A73  3  A93 ...  A124  53  A143   \n",
       "4  3115687  A14  36  A32  A46  9055  A65  A73  2  A93 ...  A124  35  A143   \n",
       "\n",
       "   A152  2  A173  1  A192  A201 1.1  \n",
       "0  A152  1  A173  1  A191  A201   2  \n",
       "1  A152  1  A172  2  A191  A201   1  \n",
       "2  A153  1  A173  2  A191  A201   1  \n",
       "3  A153  2  A173  2  A191  A201   2  \n",
       "4  A153  1  A172  2  A192  A201   1  \n",
       "\n",
       "[5 rows x 22 columns]"
      ]
     },
     "execution_count": 37,
     "metadata": {},
     "output_type": "execute_result"
    }
   ],
   "source": [
    "credit = pd.read_csv('German_Credit.csv')\n",
    "credit.head()"
   ]
  },
  {
   "cell_type": "markdown",
   "metadata": {},
   "source": [
    "This dataset is a bit hard to understand. For a start, the column names are not human readable. \n",
    "\n",
    "### Recode character strings \n",
    "\n",
    "You have likely noticed that the the columnn names are  not human readable. This can be changed as was done for the pervious dataset. Execute the code in the cell below to add human-readable column names to the data frame. "
   ]
  },
  {
   "cell_type": "code",
   "execution_count": 38,
   "metadata": {},
   "outputs": [
    {
     "data": {
      "text/html": [
       "<div>\n",
       "<style scoped>\n",
       "    .dataframe tbody tr th:only-of-type {\n",
       "        vertical-align: middle;\n",
       "    }\n",
       "\n",
       "    .dataframe tbody tr th {\n",
       "        vertical-align: top;\n",
       "    }\n",
       "\n",
       "    .dataframe thead th {\n",
       "        text-align: right;\n",
       "    }\n",
       "</style>\n",
       "<table border=\"1\" class=\"dataframe\">\n",
       "  <thead>\n",
       "    <tr style=\"text-align: right;\">\n",
       "      <th></th>\n",
       "      <th>Customer_ID</th>\n",
       "      <th>checking_account_status</th>\n",
       "      <th>loan_duration_mo</th>\n",
       "      <th>credit_history</th>\n",
       "      <th>purpose</th>\n",
       "      <th>loan_amount</th>\n",
       "      <th>savings_account_balance</th>\n",
       "      <th>time_employed_yrs</th>\n",
       "      <th>payment_pcnt_income</th>\n",
       "      <th>gender_status</th>\n",
       "      <th>...</th>\n",
       "      <th>property</th>\n",
       "      <th>age_yrs</th>\n",
       "      <th>other_credit_outstanding</th>\n",
       "      <th>home_ownership</th>\n",
       "      <th>number_loans</th>\n",
       "      <th>job_category</th>\n",
       "      <th>dependents</th>\n",
       "      <th>telephone</th>\n",
       "      <th>foreign_worker</th>\n",
       "      <th>bad_credit</th>\n",
       "    </tr>\n",
       "  </thead>\n",
       "  <tbody>\n",
       "    <tr>\n",
       "      <th>0</th>\n",
       "      <td>6156361</td>\n",
       "      <td>A12</td>\n",
       "      <td>48</td>\n",
       "      <td>A32</td>\n",
       "      <td>A43</td>\n",
       "      <td>5951</td>\n",
       "      <td>A61</td>\n",
       "      <td>A73</td>\n",
       "      <td>2</td>\n",
       "      <td>A92</td>\n",
       "      <td>...</td>\n",
       "      <td>A121</td>\n",
       "      <td>22</td>\n",
       "      <td>A143</td>\n",
       "      <td>A152</td>\n",
       "      <td>1</td>\n",
       "      <td>A173</td>\n",
       "      <td>1</td>\n",
       "      <td>A191</td>\n",
       "      <td>A201</td>\n",
       "      <td>2</td>\n",
       "    </tr>\n",
       "    <tr>\n",
       "      <th>1</th>\n",
       "      <td>2051359</td>\n",
       "      <td>A14</td>\n",
       "      <td>12</td>\n",
       "      <td>A34</td>\n",
       "      <td>A46</td>\n",
       "      <td>2096</td>\n",
       "      <td>A61</td>\n",
       "      <td>A74</td>\n",
       "      <td>2</td>\n",
       "      <td>A93</td>\n",
       "      <td>...</td>\n",
       "      <td>A121</td>\n",
       "      <td>49</td>\n",
       "      <td>A143</td>\n",
       "      <td>A152</td>\n",
       "      <td>1</td>\n",
       "      <td>A172</td>\n",
       "      <td>2</td>\n",
       "      <td>A191</td>\n",
       "      <td>A201</td>\n",
       "      <td>1</td>\n",
       "    </tr>\n",
       "    <tr>\n",
       "      <th>2</th>\n",
       "      <td>8740590</td>\n",
       "      <td>A11</td>\n",
       "      <td>42</td>\n",
       "      <td>A32</td>\n",
       "      <td>A42</td>\n",
       "      <td>7882</td>\n",
       "      <td>A61</td>\n",
       "      <td>A74</td>\n",
       "      <td>2</td>\n",
       "      <td>A93</td>\n",
       "      <td>...</td>\n",
       "      <td>A122</td>\n",
       "      <td>45</td>\n",
       "      <td>A143</td>\n",
       "      <td>A153</td>\n",
       "      <td>1</td>\n",
       "      <td>A173</td>\n",
       "      <td>2</td>\n",
       "      <td>A191</td>\n",
       "      <td>A201</td>\n",
       "      <td>1</td>\n",
       "    </tr>\n",
       "    <tr>\n",
       "      <th>3</th>\n",
       "      <td>3924540</td>\n",
       "      <td>A11</td>\n",
       "      <td>24</td>\n",
       "      <td>A33</td>\n",
       "      <td>A40</td>\n",
       "      <td>4870</td>\n",
       "      <td>A61</td>\n",
       "      <td>A73</td>\n",
       "      <td>3</td>\n",
       "      <td>A93</td>\n",
       "      <td>...</td>\n",
       "      <td>A124</td>\n",
       "      <td>53</td>\n",
       "      <td>A143</td>\n",
       "      <td>A153</td>\n",
       "      <td>2</td>\n",
       "      <td>A173</td>\n",
       "      <td>2</td>\n",
       "      <td>A191</td>\n",
       "      <td>A201</td>\n",
       "      <td>2</td>\n",
       "    </tr>\n",
       "    <tr>\n",
       "      <th>4</th>\n",
       "      <td>3115687</td>\n",
       "      <td>A14</td>\n",
       "      <td>36</td>\n",
       "      <td>A32</td>\n",
       "      <td>A46</td>\n",
       "      <td>9055</td>\n",
       "      <td>A65</td>\n",
       "      <td>A73</td>\n",
       "      <td>2</td>\n",
       "      <td>A93</td>\n",
       "      <td>...</td>\n",
       "      <td>A124</td>\n",
       "      <td>35</td>\n",
       "      <td>A143</td>\n",
       "      <td>A153</td>\n",
       "      <td>1</td>\n",
       "      <td>A172</td>\n",
       "      <td>2</td>\n",
       "      <td>A192</td>\n",
       "      <td>A201</td>\n",
       "      <td>1</td>\n",
       "    </tr>\n",
       "  </tbody>\n",
       "</table>\n",
       "<p>5 rows × 22 columns</p>\n",
       "</div>"
      ],
      "text/plain": [
       "   Customer_ID checking_account_status  loan_duration_mo credit_history  \\\n",
       "0      6156361                     A12                48            A32   \n",
       "1      2051359                     A14                12            A34   \n",
       "2      8740590                     A11                42            A32   \n",
       "3      3924540                     A11                24            A33   \n",
       "4      3115687                     A14                36            A32   \n",
       "\n",
       "  purpose  loan_amount savings_account_balance time_employed_yrs  \\\n",
       "0     A43         5951                     A61               A73   \n",
       "1     A46         2096                     A61               A74   \n",
       "2     A42         7882                     A61               A74   \n",
       "3     A40         4870                     A61               A73   \n",
       "4     A46         9055                     A65               A73   \n",
       "\n",
       "   payment_pcnt_income gender_status    ...     property  age_yrs  \\\n",
       "0                    2           A92    ...         A121       22   \n",
       "1                    2           A93    ...         A121       49   \n",
       "2                    2           A93    ...         A122       45   \n",
       "3                    3           A93    ...         A124       53   \n",
       "4                    2           A93    ...         A124       35   \n",
       "\n",
       "  other_credit_outstanding  home_ownership number_loans job_category  \\\n",
       "0                     A143            A152            1         A173   \n",
       "1                     A143            A152            1         A172   \n",
       "2                     A143            A153            1         A173   \n",
       "3                     A143            A153            2         A173   \n",
       "4                     A143            A153            1         A172   \n",
       "\n",
       "   dependents telephone  foreign_worker bad_credit  \n",
       "0           1      A191            A201          2  \n",
       "1           2      A191            A201          1  \n",
       "2           2      A191            A201          1  \n",
       "3           2      A191            A201          2  \n",
       "4           2      A192            A201          1  \n",
       "\n",
       "[5 rows x 22 columns]"
      ]
     },
     "execution_count": 38,
     "metadata": {},
     "output_type": "execute_result"
    }
   ],
   "source": [
    "credit.columns = ['Customer_ID', 'checking_account_status', 'loan_duration_mo', 'credit_history', \n",
    "                  'purpose', 'loan_amount', 'savings_account_balance', \n",
    "                  'time_employed_yrs', 'payment_pcnt_income','gender_status', \n",
    "                  'other_signators', 'time_in_residence', 'property', 'age_yrs',\n",
    "                  'other_credit_outstanding', 'home_ownership', 'number_loans', \n",
    "                  'job_category', 'dependents', 'telephone', 'foreign_worker', \n",
    "                  'bad_credit']\n",
    "credit.head()"
   ]
  },
  {
   "cell_type": "markdown",
   "metadata": {},
   "source": [
    "Next, there is a trickier problem to deal with. The current coding of the catigorical variables is impossible to understand. This makes interpreting these variables nearly impossible.  \n",
    "\n",
    "The code in the cell below uses a list of dictionaries to recode the categorical features with human-readable text. The final dictionary in the list recodes good and bad credit as a binary variable, $\\{ 0,1 \\}$. Two iterators are used to appy the dictionary:\n",
    "1. The `for` loop iterates over the columns and idexes the dictionary for the column. \n",
    "2. A list comprehension interates of the values in the column and uses the disctionary to map the codes to human-readable category names. \n",
    "\n",
    "Execute this code and examine the result: "
   ]
  },
  {
   "cell_type": "code",
   "execution_count": 39,
   "metadata": {
    "scrolled": true
   },
   "outputs": [
    {
     "data": {
      "text/html": [
       "<div>\n",
       "<style scoped>\n",
       "    .dataframe tbody tr th:only-of-type {\n",
       "        vertical-align: middle;\n",
       "    }\n",
       "\n",
       "    .dataframe tbody tr th {\n",
       "        vertical-align: top;\n",
       "    }\n",
       "\n",
       "    .dataframe thead th {\n",
       "        text-align: right;\n",
       "    }\n",
       "</style>\n",
       "<table border=\"1\" class=\"dataframe\">\n",
       "  <thead>\n",
       "    <tr style=\"text-align: right;\">\n",
       "      <th></th>\n",
       "      <th>Customer_ID</th>\n",
       "      <th>checking_account_status</th>\n",
       "      <th>loan_duration_mo</th>\n",
       "      <th>credit_history</th>\n",
       "      <th>purpose</th>\n",
       "      <th>loan_amount</th>\n",
       "      <th>savings_account_balance</th>\n",
       "      <th>time_employed_yrs</th>\n",
       "      <th>payment_pcnt_income</th>\n",
       "      <th>gender_status</th>\n",
       "      <th>...</th>\n",
       "      <th>property</th>\n",
       "      <th>age_yrs</th>\n",
       "      <th>other_credit_outstanding</th>\n",
       "      <th>home_ownership</th>\n",
       "      <th>number_loans</th>\n",
       "      <th>job_category</th>\n",
       "      <th>dependents</th>\n",
       "      <th>telephone</th>\n",
       "      <th>foreign_worker</th>\n",
       "      <th>bad_credit</th>\n",
       "    </tr>\n",
       "  </thead>\n",
       "  <tbody>\n",
       "    <tr>\n",
       "      <th>0</th>\n",
       "      <td>6156361</td>\n",
       "      <td>0 - 200 DM</td>\n",
       "      <td>48</td>\n",
       "      <td>current loans paid</td>\n",
       "      <td>radio/television</td>\n",
       "      <td>5951</td>\n",
       "      <td>&lt; 100 DM</td>\n",
       "      <td>1 - 4 years</td>\n",
       "      <td>2</td>\n",
       "      <td>female-divorced/separated/married</td>\n",
       "      <td>...</td>\n",
       "      <td>real estate</td>\n",
       "      <td>22</td>\n",
       "      <td>none</td>\n",
       "      <td>own</td>\n",
       "      <td>1</td>\n",
       "      <td>skilled</td>\n",
       "      <td>1</td>\n",
       "      <td>none</td>\n",
       "      <td>yes</td>\n",
       "      <td>1</td>\n",
       "    </tr>\n",
       "    <tr>\n",
       "      <th>1</th>\n",
       "      <td>2051359</td>\n",
       "      <td>none</td>\n",
       "      <td>12</td>\n",
       "      <td>critical account - other non-bank loans</td>\n",
       "      <td>education</td>\n",
       "      <td>2096</td>\n",
       "      <td>&lt; 100 DM</td>\n",
       "      <td>4 - 7 years</td>\n",
       "      <td>2</td>\n",
       "      <td>male-single</td>\n",
       "      <td>...</td>\n",
       "      <td>real estate</td>\n",
       "      <td>49</td>\n",
       "      <td>none</td>\n",
       "      <td>own</td>\n",
       "      <td>1</td>\n",
       "      <td>unskilled-resident</td>\n",
       "      <td>2</td>\n",
       "      <td>none</td>\n",
       "      <td>yes</td>\n",
       "      <td>0</td>\n",
       "    </tr>\n",
       "    <tr>\n",
       "      <th>2</th>\n",
       "      <td>8740590</td>\n",
       "      <td>&lt; 0 DM</td>\n",
       "      <td>42</td>\n",
       "      <td>current loans paid</td>\n",
       "      <td>furniture/equipment</td>\n",
       "      <td>7882</td>\n",
       "      <td>&lt; 100 DM</td>\n",
       "      <td>4 - 7 years</td>\n",
       "      <td>2</td>\n",
       "      <td>male-single</td>\n",
       "      <td>...</td>\n",
       "      <td>building society savings/life insurance</td>\n",
       "      <td>45</td>\n",
       "      <td>none</td>\n",
       "      <td>for free</td>\n",
       "      <td>1</td>\n",
       "      <td>skilled</td>\n",
       "      <td>2</td>\n",
       "      <td>none</td>\n",
       "      <td>yes</td>\n",
       "      <td>0</td>\n",
       "    </tr>\n",
       "    <tr>\n",
       "      <th>3</th>\n",
       "      <td>3924540</td>\n",
       "      <td>&lt; 0 DM</td>\n",
       "      <td>24</td>\n",
       "      <td>past payment delays</td>\n",
       "      <td>car (new)</td>\n",
       "      <td>4870</td>\n",
       "      <td>&lt; 100 DM</td>\n",
       "      <td>1 - 4 years</td>\n",
       "      <td>3</td>\n",
       "      <td>male-single</td>\n",
       "      <td>...</td>\n",
       "      <td>unknown-none</td>\n",
       "      <td>53</td>\n",
       "      <td>none</td>\n",
       "      <td>for free</td>\n",
       "      <td>2</td>\n",
       "      <td>skilled</td>\n",
       "      <td>2</td>\n",
       "      <td>none</td>\n",
       "      <td>yes</td>\n",
       "      <td>1</td>\n",
       "    </tr>\n",
       "    <tr>\n",
       "      <th>4</th>\n",
       "      <td>3115687</td>\n",
       "      <td>none</td>\n",
       "      <td>36</td>\n",
       "      <td>current loans paid</td>\n",
       "      <td>education</td>\n",
       "      <td>9055</td>\n",
       "      <td>unknown/none</td>\n",
       "      <td>1 - 4 years</td>\n",
       "      <td>2</td>\n",
       "      <td>male-single</td>\n",
       "      <td>...</td>\n",
       "      <td>unknown-none</td>\n",
       "      <td>35</td>\n",
       "      <td>none</td>\n",
       "      <td>for free</td>\n",
       "      <td>1</td>\n",
       "      <td>unskilled-resident</td>\n",
       "      <td>2</td>\n",
       "      <td>yes</td>\n",
       "      <td>yes</td>\n",
       "      <td>0</td>\n",
       "    </tr>\n",
       "  </tbody>\n",
       "</table>\n",
       "<p>5 rows × 22 columns</p>\n",
       "</div>"
      ],
      "text/plain": [
       "   Customer_ID checking_account_status  loan_duration_mo  \\\n",
       "0      6156361              0 - 200 DM                48   \n",
       "1      2051359                    none                12   \n",
       "2      8740590                  < 0 DM                42   \n",
       "3      3924540                  < 0 DM                24   \n",
       "4      3115687                    none                36   \n",
       "\n",
       "                            credit_history              purpose  loan_amount  \\\n",
       "0                       current loans paid     radio/television         5951   \n",
       "1  critical account - other non-bank loans            education         2096   \n",
       "2                       current loans paid  furniture/equipment         7882   \n",
       "3                      past payment delays            car (new)         4870   \n",
       "4                       current loans paid            education         9055   \n",
       "\n",
       "  savings_account_balance time_employed_yrs  payment_pcnt_income  \\\n",
       "0                < 100 DM       1 - 4 years                    2   \n",
       "1                < 100 DM       4 - 7 years                    2   \n",
       "2                < 100 DM       4 - 7 years                    2   \n",
       "3                < 100 DM       1 - 4 years                    3   \n",
       "4            unknown/none       1 - 4 years                    2   \n",
       "\n",
       "                       gender_status    ...      \\\n",
       "0  female-divorced/separated/married    ...       \n",
       "1                        male-single    ...       \n",
       "2                        male-single    ...       \n",
       "3                        male-single    ...       \n",
       "4                        male-single    ...       \n",
       "\n",
       "                                  property  age_yrs other_credit_outstanding  \\\n",
       "0                              real estate       22                     none   \n",
       "1                              real estate       49                     none   \n",
       "2  building society savings/life insurance       45                     none   \n",
       "3                             unknown-none       53                     none   \n",
       "4                             unknown-none       35                     none   \n",
       "\n",
       "   home_ownership number_loans        job_category  dependents telephone  \\\n",
       "0             own            1             skilled           1      none   \n",
       "1             own            1  unskilled-resident           2      none   \n",
       "2        for free            1             skilled           2      none   \n",
       "3        for free            2             skilled           2      none   \n",
       "4        for free            1  unskilled-resident           2       yes   \n",
       "\n",
       "   foreign_worker bad_credit  \n",
       "0             yes          1  \n",
       "1             yes          0  \n",
       "2             yes          0  \n",
       "3             yes          1  \n",
       "4             yes          0  \n",
       "\n",
       "[5 rows x 22 columns]"
      ]
     },
     "execution_count": 39,
     "metadata": {},
     "output_type": "execute_result"
    }
   ],
   "source": [
    "code_list = [['checking_account_status', \n",
    "              {'A11' : '< 0 DM', \n",
    "               'A12' : '0 - 200 DM', \n",
    "               'A13' : '> 200 DM or salary assignment', \n",
    "               'A14' : 'none'}],\n",
    "            ['credit_history',\n",
    "            {'A30' : 'no credit - paid', \n",
    "             'A31' : 'all loans at bank paid', \n",
    "             'A32' : 'current loans paid', \n",
    "             'A33' : 'past payment delays', \n",
    "             'A34' : 'critical account - other non-bank loans'}],\n",
    "            ['purpose',\n",
    "            {'A40' : 'car (new)', \n",
    "             'A41' : 'car (used)',\n",
    "             'A42' : 'furniture/equipment',\n",
    "             'A43' : 'radio/television', \n",
    "             'A44' : 'domestic appliances', \n",
    "             'A45' : 'repairs', \n",
    "             'A46' : 'education', \n",
    "             'A47' : 'vacation',\n",
    "             'A48' : 'retraining',\n",
    "             'A49' : 'business', \n",
    "             'A410' : 'other' }],\n",
    "            ['savings_account_balance',\n",
    "            {'A61' : '< 100 DM', \n",
    "             'A62' : '100 - 500 DM', \n",
    "             'A63' : '500 - 1000 DM', \n",
    "             'A64' : '>= 1000 DM',\n",
    "             'A65' : 'unknown/none' }],\n",
    "            ['time_employed_yrs',\n",
    "            {'A71' : 'unemployed',\n",
    "             'A72' : '< 1 year', \n",
    "             'A73' : '1 - 4 years', \n",
    "             'A74' : '4 - 7 years', \n",
    "             'A75' : '>= 7 years'}],\n",
    "            ['gender_status',\n",
    "            {'A91' : 'male-divorced/separated', \n",
    "             'A92' : 'female-divorced/separated/married',\n",
    "             'A93' : 'male-single', \n",
    "             'A94' : 'male-married/widowed', \n",
    "             'A95' : 'female-single'}],\n",
    "            ['other_signators',\n",
    "            {'A101' : 'none', \n",
    "             'A102' : 'co-applicant', \n",
    "             'A103' : 'guarantor'}],\n",
    "            ['property',\n",
    "            {'A121' : 'real estate',\n",
    "             'A122' : 'building society savings/life insurance', \n",
    "             'A123' : 'car or other',\n",
    "             'A124' : 'unknown-none' }],\n",
    "            ['other_credit_outstanding',\n",
    "            {'A141' : 'bank', \n",
    "             'A142' : 'stores', \n",
    "             'A143' : 'none'}],\n",
    "             ['home_ownership',\n",
    "            {'A151' : 'rent', \n",
    "             'A152' : 'own', \n",
    "             'A153' : 'for free'}],\n",
    "            ['job_category',\n",
    "            {'A171' : 'unemployed-unskilled-non-resident', \n",
    "             'A172' : 'unskilled-resident', \n",
    "             'A173' : 'skilled',\n",
    "             'A174' : 'highly skilled'}],\n",
    "            ['telephone', \n",
    "            {'A191' : 'none', \n",
    "             'A192' : 'yes'}],\n",
    "            ['foreign_worker',\n",
    "            {'A201' : 'yes', \n",
    "             'A202' : 'no'}],\n",
    "            ['bad_credit',\n",
    "            {2 : 1,\n",
    "             1 : 0}]]\n",
    "\n",
    "for col_dic in code_list:\n",
    "    col = col_dic[0]\n",
    "    dic = col_dic[1]\n",
    "    credit[col] = [dic[x] for x in credit[col]]\n",
    "    \n",
    "credit.head()    "
   ]
  },
  {
   "cell_type": "markdown",
   "metadata": {},
   "source": [
    "The categorical values are now coded in a human readable maner. "
   ]
  },
  {
   "cell_type": "markdown",
   "metadata": {},
   "source": [
    "### Removed duplicate rows\n",
    "\n",
    "Duplicate cases can seriously bias the training of machine learning models. In simple terms, cases which are duplicates add undue weight to that case when training a machine learning model. Therefore, it is necessary to ensure there are no duplicates in the dataset before training a model.  \n",
    "\n",
    "One must be careful when determining if a case is a duplicate or not. It is possible that some cases have identical values, particularly if most or all features are categorical. On the other hand, if there are columns with values guaranteed to be unique these can be used to detect and remove duplicates.\n",
    "\n",
    "Another consideration when removing duplicate cases is determining which case to remove. If the duplicates have different dates of creation, the newest date is often selected. In the absence of such a criteria the choice is often arbitrary. You may chose to keep the first case or the last case. \n",
    "\n",
    "The German credit data has a Customer ID column which should be unique. The presence of duplicates can be determined by comparing the number of rows to the number of unique values. The code in the cell below prints the shape of the data frame and the number of unique Customer ID values. Execute this code and examine the results.  "
   ]
  },
  {
   "cell_type": "code",
   "execution_count": 40,
   "metadata": {},
   "outputs": [
    {
     "name": "stdout",
     "output_type": "stream",
     "text": [
      "(1011, 22)\n",
      "(999,)\n"
     ]
    }
   ],
   "source": [
    "print(credit.shape)\n",
    "print(credit.Customer_ID.unique().shape)"
   ]
  },
  {
   "cell_type": "markdown",
   "metadata": {},
   "source": [
    "There are 12 duplicate cases. These need to be located and the duplicates removed. In this case, the first case will be kept. \n",
    "\n",
    "The code in the cell below removes these duplicates from the data frame inplace and the number of remaining rows and unique Customer IDs are printed. Execute this code and examine the results. "
   ]
  },
  {
   "cell_type": "code",
   "execution_count": 41,
   "metadata": {
    "scrolled": true
   },
   "outputs": [
    {
     "name": "stdout",
     "output_type": "stream",
     "text": [
      "(999, 22)\n",
      "(999,)\n"
     ]
    }
   ],
   "source": [
    "credit.drop_duplicates(subset = 'Customer_ID', keep = 'first', inplace = True)\n",
    "print(credit.shape)\n",
    "print(credit.Customer_ID.unique().shape)"
   ]
  },
  {
   "cell_type": "markdown",
   "metadata": {},
   "source": [
    "The duplicate rows have been successfully removed. "
   ]
  },
  {
   "cell_type": "markdown",
   "metadata": {},
   "source": [
    "### Feature engineering\n",
    "\n",
    "Some feature engineering needs to be investigated to determine if any improvement in predictive power can be expected. From the previous data exploration, it is apparent that several of the numeric features had a strong left skew. A log transformaiton may help in a case like this. Execute in the code in the cell below uses the Pandas `applymap` method to apply the `log` function to each element of several columns in the data frame. Execute this code."
   ]
  },
  {
   "cell_type": "code",
   "execution_count": 42,
   "metadata": {},
   "outputs": [],
   "source": [
    "credit[['log_loan_duration_mo', 'log_loan_amount', 'log_age_yrs']] = credit[['loan_duration_mo', 'loan_amount', 'age_yrs']].applymap(math.log)"
   ]
  },
  {
   "cell_type": "markdown",
   "metadata": {},
   "source": [
    "Next, execute the code in the cell below to visualize the differences in the distributions of the untransformed and transformed variables for the two label values. "
   ]
  },
  {
   "cell_type": "code",
   "execution_count": 46,
   "metadata": {
    "scrolled": false
   },
   "outputs": [
    {
     "name": "stdout",
     "output_type": "stream",
     "text": [
      "log_loan_duration_mo\n"
     ]
    },
    {
     "data": {
      "image/png": "[encoded data removed]",
      "text/plain": [
       "<matplotlib.figure.Figure at 0x20e662bb748>"
      ]
     },
     "metadata": {},
     "output_type": "display_data"
    },
    {
     "name": "stdout",
     "output_type": "stream",
     "text": [
      "log_loan_amount\n"
     ]
    },
    {
     "data": {
      "image/png": "[encoded data removed]",
      "text/plain": [
       "<matplotlib.figure.Figure at 0x20e666eba90>"
      ]
     },
     "metadata": {},
     "output_type": "display_data"
    },
    {
     "name": "stdout",
     "output_type": "stream",
     "text": [
      "log_age_yrs\n"
     ]
    },
    {
     "data": {
      "image/png": "[encoded data removed]",
      "text/plain": [
       "<matplotlib.figure.Figure at 0x20e66265cf8>"
      ]
     },
     "metadata": {},
     "output_type": "display_data"
    },
    {
     "name": "stdout",
     "output_type": "stream",
     "text": [
      "loan_duration_mo\n"
     ]
    },
    {
     "data": {
      "image/png": "[encoded data removed]",
      "text/plain": [
       "<matplotlib.figure.Figure at 0x20e668e50f0>"
      ]
     },
     "metadata": {},
     "output_type": "display_data"
    },
    {
     "name": "stdout",
     "output_type": "stream",
     "text": [
      "loan_amount\n"
     ]
    },
    {
     "data": {
      "image/png": "[encoded data removed]",
      "text/plain": [
       "<matplotlib.figure.Figure at 0x20e6687f278>"
      ]
     },
     "metadata": {},
     "output_type": "display_data"
    },
    {
     "name": "stdout",
     "output_type": "stream",
     "text": [
      "age_yrs\n"
     ]
    },
    {
     "data": {
      "image/png": "[encoded data removed]",
      "text/plain": [
       "<matplotlib.figure.Figure at 0x20e6680e278>"
      ]
     },
     "metadata": {},
     "output_type": "display_data"
    }
   ],
   "source": [
    "num_cols = ['log_loan_duration_mo', 'log_loan_amount', 'log_age_yrs',\n",
    "                   'loan_duration_mo', 'loan_amount', 'age_yrs']\n",
    "\n",
    "for col in num_cols:\n",
    "    print(col)\n",
    "    _ = plt.figure(figsize = (10,4))\n",
    "    sns.violinplot(x= 'bad_credit', y = col, hue = 'bad_credit', \n",
    "                   data = credit)\n",
    "    plt.ylabel('value')\n",
    "    plt.xlabel(col)\n",
    "    plt.show()"
   ]
  },
  {
   "cell_type": "markdown",
   "metadata": {},
   "source": [
    "The log transformed features have more symmetric distributions. However, it does not appear that the separation of the label cases is improved. \n",
    "\n",
    "****\n",
    "**Note:** Recalling the visualizatiion of the categorical features, there are quite a few categories with few cases. However, it is not clear how these categories can be reasonably be combined. It may be the case that some of these categorical features are not terribly predictive.\n",
    "****"
   ]
  },
  {
   "cell_type": "markdown",
   "metadata": {},
   "source": [
    "## Summary\n",
    "\n",
    "Good data preparation is the key to good machine learning performance. Data preparation or data munging is a time interactive and iterative process. Continue to visualize the results and you test ideas. Expect to try many approaches, reject the ones that do not help, and keep the ones that do. In summary, test a lot of ideas, fail fast, keep what works. The reward is that well prepared data can improve the performance of almost any machine learning algorithm."
   ]
  },
  {
   "cell_type": "code",
   "execution_count": null,
   "metadata": {},
   "outputs": [],
   "source": []
  }
 ],
 "metadata": {
  "kernelspec": {
   "display_name": "Python 3",
   "language": "python",
   "name": "python3"
  },
  "language_info": {
   "codemirror_mode": {
    "name": "ipython",
    "version": 3
   },
   "file_extension": ".py",
   "mimetype": "text/x-python",
   "name": "python",
   "nbconvert_exporter": "python",
   "pygments_lexer": "ipython3",
   "version": "3.6.4"
  }
 },
 "nbformat": 4,
 "nbformat_minor": 2
}
